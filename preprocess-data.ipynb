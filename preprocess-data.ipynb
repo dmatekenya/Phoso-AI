{
 "cells": [
  {
   "cell_type": "code",
   "execution_count": 10,
   "metadata": {},
   "outputs": [],
   "source": [
    "import pandas as pd\n",
    "from pathlib import Path\n",
    "import numpy as np\n",
    "from datetime import datetime\n",
    "import calendar"
   ]
  },
  {
   "cell_type": "code",
   "execution_count": 11,
   "metadata": {},
   "outputs": [],
   "source": [
    "DIR_RAW_DATA = Path.cwd().joinpath(\"data\", \"raw\")\n",
    "DIR_TABLES_DATA = Path.cwd().joinpath(\"data\", \"tables\")"
   ]
  },
  {
   "cell_type": "code",
   "execution_count": 12,
   "metadata": {},
   "outputs": [],
   "source": [
    "def convert2float(s):\n",
    "    if isinstance(s, float):\n",
    "        return s\n",
    "    elif s == \"#DIV/0!\":\n",
    "        return np.NaN\n",
    "    elif \",\" in s:\n",
    "        # Remove the comma\n",
    "        s = s.replace(\",\", \"\")\n",
    "        # Convert to float\n",
    "        return float(s)\n",
    "    else:\n",
    "        return float(s)"
   ]
  },
  {
   "cell_type": "markdown",
   "metadata": {},
   "source": [
    "# Process Price Data "
   ]
  },
  {
   "cell_type": "code",
   "execution_count": 16,
   "metadata": {},
   "outputs": [],
   "source": [
    "def get_last_day_of_month(month_name, year=2024):\n",
    "    # Convert month name to month number\n",
    "    month_number = datetime.strptime(month_name, '%B').month\n",
    "    \n",
    "    # If year is not provided, use the current year\n",
    "    if year is None:\n",
    "        year = datetime.now().year\n",
    "    \n",
    "    # Get the last day of the month\n",
    "    last_day = calendar.monthrange(year, month_number)[1]\n",
    "    \n",
    "    # Create the date object for the last day of the month\n",
    "    last_day_date = datetime(year, month_number, last_day)\n",
    "\n",
    "    # Format the date object to string in 'YYYY-MM-DD' format\n",
    "    last_day_date_str = last_day_date.strftime('%Y-%m-%d')\n",
    "    \n",
    "    return last_day_date_str"
   ]
  },
  {
   "cell_type": "markdown",
   "metadata": {},
   "source": [
    "## Maize Prices"
   ]
  },
  {
   "cell_type": "code",
   "execution_count": 17,
   "metadata": {},
   "outputs": [],
   "source": [
    "file_maize_prices = DIR_RAW_DATA.joinpath(\"prices-maize.csv\")\n",
    "df_maize = pd.read_csv(file_maize_prices)\n",
    "df_maize.dropna(subset=['ADD'], inplace=True)\n",
    "df_maize['Price'] = df_maize.Price.apply(convert2float)\n",
    "\n",
    "\n",
    "df_maize.drop(columns=['Wk1', 'Wk2',\n",
    "       'Wk3', 'Wk4', 'Wk5'], inplace=True)\n",
    "df_maize['Year'] = df_maize.Year.astype(int)\n",
    "df_maize.rename(columns={'District ': \"District\", \n",
    "                         \"Month\":'Month_Name', \"Year\":'Yr',\n",
    "                         \"ADD\": \"ADD_Name\", \"EPA\": \"EPA_Name\"}, \n",
    "                inplace=True)\n",
    "df_maize['Collection_Date'] = df_maize.Month_Name.apply(get_last_day_of_month)"
   ]
  },
  {
   "cell_type": "code",
   "execution_count": 22,
   "metadata": {},
   "outputs": [
    {
     "data": {
      "text/plain": [
       "Lilongwe       75\n",
       "Kasungu        70\n",
       "Machinga       50\n",
       "Blantyre       50\n",
       "Mzuzu          45\n",
       "Karonga        25\n",
       "Shirevalley    25\n",
       "Salima         20\n",
       "Name: ADD, dtype: int64"
      ]
     },
     "execution_count": 22,
     "metadata": {},
     "output_type": "execute_result"
    }
   ],
   "source": [
    "df_maize.ADD.value_counts()"
   ]
  },
  {
   "cell_type": "code",
   "execution_count": 29,
   "metadata": {},
   "outputs": [
    {
     "data": {
      "text/plain": [
       "Index(['Chitsime', 'Thondwe', 'Kaluluma', 'Misuku', 'Manjawira', 'Nasenga',\n",
       "       'Mbwadzulu', 'Mpiya', 'Chikweo', 'Bazale', 'Nsipe', 'Mpokwa',\n",
       "       'Tsangano', 'Sharpevale', 'Njolomole', 'Bembeke', 'Linthipe', 'Mtubwi',\n",
       "       'Ngwelero', 'Lobi', 'Mbulumbuzi', 'Lunzu', 'Mtonda', 'Dwale',\n",
       "       'Nkhonjeni', 'Mwanza', 'Neno', 'Nkhulambe', 'Naminjiwa', 'Milonde',\n",
       "       'Mitole', 'Mikalango', 'Mbewe', 'Magoti', 'Mtakataka', 'Mitundu',\n",
       "       'Chitekwere', 'Mwansambo', 'Lufita', 'Mpata', 'Vinthukutu', 'Bolero',\n",
       "       'Katowo', 'Emsizini', 'Kazomba', 'Mbawa', 'Champhira', 'Mpamba',\n",
       "       'Nkhata Bay', 'Chintheche', 'Nkhunga', 'Linga', 'Tembwe', 'Kavukuku',\n",
       "       'Chikwatula', 'Malomo', 'Nachisaka', 'Mponela', 'Madisi', 'Bowe',\n",
       "       'Nambuma', 'Santhe', 'Chipala', 'Chamama', 'Mkanda', 'Zulu', 'Chilaza',\n",
       "       'Demera', 'Zunde'],\n",
       "      dtype='object')"
      ]
     },
     "execution_count": 29,
     "metadata": {},
     "output_type": "execute_result"
    }
   ],
   "source": [
    "df_maize.EPA.value_counts().index"
   ]
  },
  {
   "cell_type": "code",
   "execution_count": 34,
   "metadata": {},
   "outputs": [
    {
     "data": {
      "text/plain": [
       "Index(['Ntcheu', 'Kasungu', 'Dedza', 'Dowa West', 'Zomba', 'Chikwawa',\n",
       "       'Machinga', 'Lilongwe East', 'Lilongwe West', 'Chitipa', 'Nkhotakota',\n",
       "       'Nkhata Bay', 'Mzimba South', 'Nsanje', 'Mchinji', 'Rumphi', 'Karonga',\n",
       "       'Mangochi', 'Ntchisi', 'Phalombe', 'Blantyre', 'Thyolo', 'Neno',\n",
       "       'Mulanje', 'Dowa East', 'Mwanza', 'Chiradzulu', 'Balaka', 'Salima',\n",
       "       'Mzimba North'],\n",
       "      dtype='object')"
      ]
     },
     "execution_count": 34,
     "metadata": {},
     "output_type": "execute_result"
    }
   ],
   "source": [
    "df_maize.District.value_counts().index"
   ]
  },
  {
   "cell_type": "code",
   "execution_count": 124,
   "metadata": {},
   "outputs": [
    {
     "data": {
      "text/html": [
       "<div>\n",
       "<style scoped>\n",
       "    .dataframe tbody tr th:only-of-type {\n",
       "        vertical-align: middle;\n",
       "    }\n",
       "\n",
       "    .dataframe tbody tr th {\n",
       "        vertical-align: top;\n",
       "    }\n",
       "\n",
       "    .dataframe thead th {\n",
       "        text-align: right;\n",
       "    }\n",
       "</style>\n",
       "<table border=\"1\" class=\"dataframe\">\n",
       "  <thead>\n",
       "    <tr style=\"text-align: right;\">\n",
       "      <th></th>\n",
       "      <th>ADD_Name</th>\n",
       "      <th>EPA_Name</th>\n",
       "      <th>District</th>\n",
       "      <th>Market</th>\n",
       "      <th>Month_Name</th>\n",
       "      <th>Yr</th>\n",
       "      <th>Commodity</th>\n",
       "      <th>Price</th>\n",
       "    </tr>\n",
       "  </thead>\n",
       "  <tbody>\n",
       "    <tr>\n",
       "      <th>0</th>\n",
       "      <td>Karonga</td>\n",
       "      <td>Misuku</td>\n",
       "      <td>Chitipa</td>\n",
       "      <td>Misuku</td>\n",
       "      <td>January</td>\n",
       "      <td>2024</td>\n",
       "      <td>Maize</td>\n",
       "      <td>544.445000</td>\n",
       "    </tr>\n",
       "    <tr>\n",
       "      <th>1</th>\n",
       "      <td>Karonga</td>\n",
       "      <td>Kavukuku</td>\n",
       "      <td>Chitipa</td>\n",
       "      <td>Nthalire</td>\n",
       "      <td>January</td>\n",
       "      <td>2024</td>\n",
       "      <td>Maize</td>\n",
       "      <td>NaN</td>\n",
       "    </tr>\n",
       "    <tr>\n",
       "      <th>2</th>\n",
       "      <td>Karonga</td>\n",
       "      <td>Lufita</td>\n",
       "      <td>Chitipa</td>\n",
       "      <td>Chitipa</td>\n",
       "      <td>January</td>\n",
       "      <td>2024</td>\n",
       "      <td>Maize</td>\n",
       "      <td>NaN</td>\n",
       "    </tr>\n",
       "    <tr>\n",
       "      <th>3</th>\n",
       "      <td>Karonga</td>\n",
       "      <td>Mpata</td>\n",
       "      <td>Karonga</td>\n",
       "      <td>Karonga</td>\n",
       "      <td>January</td>\n",
       "      <td>2024</td>\n",
       "      <td>Maize</td>\n",
       "      <td>752.330000</td>\n",
       "    </tr>\n",
       "    <tr>\n",
       "      <th>4</th>\n",
       "      <td>Karonga</td>\n",
       "      <td>Vinthukutu</td>\n",
       "      <td>Karonga</td>\n",
       "      <td>Chilumba</td>\n",
       "      <td>January</td>\n",
       "      <td>2024</td>\n",
       "      <td>Maize</td>\n",
       "      <td>601.866667</td>\n",
       "    </tr>\n",
       "    <tr>\n",
       "      <th>...</th>\n",
       "      <td>...</td>\n",
       "      <td>...</td>\n",
       "      <td>...</td>\n",
       "      <td>...</td>\n",
       "      <td>...</td>\n",
       "      <td>...</td>\n",
       "      <td>...</td>\n",
       "      <td>...</td>\n",
       "    </tr>\n",
       "    <tr>\n",
       "      <th>355</th>\n",
       "      <td>Shirevalley</td>\n",
       "      <td>Mitole</td>\n",
       "      <td>Chikwawa</td>\n",
       "      <td>Chikhwawa</td>\n",
       "      <td>May</td>\n",
       "      <td>2024</td>\n",
       "      <td>Maize</td>\n",
       "      <td>517.815000</td>\n",
       "    </tr>\n",
       "    <tr>\n",
       "      <th>356</th>\n",
       "      <td>Shirevalley</td>\n",
       "      <td>Mikalango</td>\n",
       "      <td>Chikwawa</td>\n",
       "      <td>Ngabu</td>\n",
       "      <td>May</td>\n",
       "      <td>2024</td>\n",
       "      <td>Maize</td>\n",
       "      <td>530.307500</td>\n",
       "    </tr>\n",
       "    <tr>\n",
       "      <th>357</th>\n",
       "      <td>Shirevalley</td>\n",
       "      <td>Mbewe</td>\n",
       "      <td>Chikwawa</td>\n",
       "      <td>Nchalo</td>\n",
       "      <td>May</td>\n",
       "      <td>2024</td>\n",
       "      <td>Maize</td>\n",
       "      <td>508.411667</td>\n",
       "    </tr>\n",
       "    <tr>\n",
       "      <th>358</th>\n",
       "      <td>Shirevalley</td>\n",
       "      <td>Magoti</td>\n",
       "      <td>Nsanje</td>\n",
       "      <td>Bangula</td>\n",
       "      <td>May</td>\n",
       "      <td>2024</td>\n",
       "      <td>Maize</td>\n",
       "      <td>NaN</td>\n",
       "    </tr>\n",
       "    <tr>\n",
       "      <th>359</th>\n",
       "      <td>Shirevalley</td>\n",
       "      <td>Zunde</td>\n",
       "      <td>Nsanje</td>\n",
       "      <td>Nsanje</td>\n",
       "      <td>May</td>\n",
       "      <td>2024</td>\n",
       "      <td>Maize</td>\n",
       "      <td>700.002500</td>\n",
       "    </tr>\n",
       "  </tbody>\n",
       "</table>\n",
       "<p>360 rows × 8 columns</p>\n",
       "</div>"
      ],
      "text/plain": [
       "        ADD_Name    EPA_Name  District     Market Month_Name    Yr Commodity  \\\n",
       "0        Karonga      Misuku   Chitipa     Misuku    January  2024     Maize   \n",
       "1        Karonga    Kavukuku   Chitipa   Nthalire    January  2024     Maize   \n",
       "2        Karonga      Lufita   Chitipa    Chitipa    January  2024     Maize   \n",
       "3        Karonga       Mpata   Karonga    Karonga    January  2024     Maize   \n",
       "4        Karonga  Vinthukutu   Karonga   Chilumba    January  2024     Maize   \n",
       "..           ...         ...       ...        ...        ...   ...       ...   \n",
       "355  Shirevalley      Mitole  Chikwawa  Chikhwawa        May  2024     Maize   \n",
       "356  Shirevalley   Mikalango  Chikwawa      Ngabu        May  2024     Maize   \n",
       "357  Shirevalley       Mbewe  Chikwawa     Nchalo        May  2024     Maize   \n",
       "358  Shirevalley      Magoti    Nsanje    Bangula        May  2024     Maize   \n",
       "359  Shirevalley       Zunde    Nsanje     Nsanje        May  2024     Maize   \n",
       "\n",
       "          Price  \n",
       "0    544.445000  \n",
       "1           NaN  \n",
       "2           NaN  \n",
       "3    752.330000  \n",
       "4    601.866667  \n",
       "..          ...  \n",
       "355  517.815000  \n",
       "356  530.307500  \n",
       "357  508.411667  \n",
       "358         NaN  \n",
       "359  700.002500  \n",
       "\n",
       "[360 rows x 8 columns]"
      ]
     },
     "execution_count": 124,
     "metadata": {},
     "output_type": "execute_result"
    }
   ],
   "source": [
    "df_maize"
   ]
  },
  {
   "cell_type": "markdown",
   "metadata": {},
   "source": [
    "## Rest of the commodities Prices"
   ]
  },
  {
   "cell_type": "code",
   "execution_count": 47,
   "metadata": {},
   "outputs": [],
   "source": [
    "prices = [df_maize]\n",
    "for file in DIR_RAW_DATA.iterdir():\n",
    "    if not \"prices\" in file.parts[-1]:\n",
    "        continue\n",
    "    if file.parts[-1] == \"prices-maize.csv\":\n",
    "        continue\n",
    "    df = pd.read_csv(file)\n",
    "    df['Price'] = df.Price.apply(lambda x: convert2float(x))\n",
    "    df.dropna(subset=['ADD'], inplace=True)\n",
    "    df.rename(columns={'District ': \"District\", \n",
    "                         \"Month\":'Month_Name', \"Year\":'Yr',\n",
    "                         \"ADD\": \"ADD_Name\", \"EPA\": \"EPA_Name\"}, inplace=True)\n",
    "    df['Yr'] = df_maize.Yr.astype(int)\n",
    "    df['Collection_Date'] = df.Month_Name.apply(get_last_day_of_month)\n",
    "    prices.append(df)\n",
    "df_prices = pd.concat(prices)\n",
    "df_prices['District'] = df_prices.District.apply(lambda x: x.split()[0])\n"
   ]
  },
  {
   "cell_type": "code",
   "execution_count": 64,
   "metadata": {},
   "outputs": [],
   "source": [
    "assert df_prices.shape[0] == len(df_maize)*6"
   ]
  },
  {
   "cell_type": "code",
   "execution_count": 35,
   "metadata": {},
   "outputs": [],
   "source": [
    "dists = list(df_prices.District.unique())"
   ]
  },
  {
   "cell_type": "code",
   "execution_count": 50,
   "metadata": {},
   "outputs": [],
   "source": [
    "df_prices.to_csv(DIR_TABLES_DATA.joinpath(\"prices.csv\"), index=False)"
   ]
  },
  {
   "cell_type": "code",
   "execution_count": 56,
   "metadata": {},
   "outputs": [
    {
     "data": {
      "text/plain": [
       "524.6175000000001"
      ]
     },
     "execution_count": 56,
     "metadata": {},
     "output_type": "execute_result"
    }
   ],
   "source": [
    "df_prices.query('District == \"Karonga\" & Month_Name == \"May\" & Commodity == \"Maize\"').Price.mean()"
   ]
  },
  {
   "cell_type": "code",
   "execution_count": 59,
   "metadata": {},
   "outputs": [
    {
     "data": {
      "text/plain": [
       "array(['Maize', 'Rice', 'Soya beans', 'Beans', 'Cow peas', 'Groundnuts'],\n",
       "      dtype=object)"
      ]
     },
     "execution_count": 59,
     "metadata": {},
     "output_type": "execute_result"
    }
   ],
   "source": [
    "df_prices.Commodity.unique()"
   ]
  },
  {
   "cell_type": "markdown",
   "metadata": {},
   "source": [
    "# Process Production Data"
   ]
  },
  {
   "cell_type": "code",
   "execution_count": null,
   "metadata": {},
   "outputs": [],
   "source": [
    "\n"
   ]
  },
  {
   "cell_type": "code",
   "execution_count": 109,
   "metadata": {},
   "outputs": [],
   "source": [
    "df_prod = pd.read_csv(DIR_RAW_DATA.joinpath(\"production.csv\"))\n",
    "df_prod.dropna(subset=['District'], inplace=True)\n",
    "df_prod['District'] = df_prod.District.apply(lambda x: x.split()[0])\n",
    "df_prod2 = df_prod.groupby(\"District\").sum().reset_index()\n",
    "df_prod2['Tobacco'] = df_prod2.apply(lambda x: x['NDDF Tobacco'] + x['Burley tobacco'], axis=1)\n",
    "df_prod2.drop(columns=[\"NDDF Tobacco\", \"Burley tobacco\"], inplace=True)"
   ]
  },
  {
   "cell_type": "code",
   "execution_count": 111,
   "metadata": {},
   "outputs": [],
   "source": [
    "value_cols = [\"Maize\", 'Beans', 'Cow peas', 'Dolichus beans ',\n",
    "       'Soy beans', 'Ground beans', 'Paprika', 'Rice', 'Pigeon peas', 'Grams',\n",
    "       'Sesame ', 'Field peas', 'Velvet beans', 'Chick peas', 'Wheat',\n",
    "       'Millet', 'Sorghum ', 'Groundnuts', 'Cassava', 'Sweet potatoes',\n",
    "       'Potatoes', 'Tobacco', 'Flue cured',\n",
    "       'Sunflower ', 'Chillies', 'Cotton ', 'Bananas', 'Mangoes', 'Oranges',\n",
    "       'Tangerines', 'Coffee', 'Pineapples', 'Guava', 'Pawpaws', 'Peaches',\n",
    "       'Lemons', 'Grape fruits', 'Apples', 'Avocado pear', 'Macademia',\n",
    "       'Tomatoes', 'Onions', 'Cabbage', 'Egg plants', 'Okra', 'Cucumber']\n",
    "df_prod_long = df_prod2.melt(id_vars='District', value_vars=value_cols,\n",
    "var_name= \"Crop\", value_name=\"Yield\")\n",
    "df_prod_long['Season'] = \"2023-2024\"\n",
    "df_prod_long.replace(\"Rumphi \", 'Rumphi', inplace=True)"
   ]
  },
  {
   "cell_type": "code",
   "execution_count": 112,
   "metadata": {},
   "outputs": [
    {
     "data": {
      "text/html": [
       "<div>\n",
       "<style scoped>\n",
       "    .dataframe tbody tr th:only-of-type {\n",
       "        vertical-align: middle;\n",
       "    }\n",
       "\n",
       "    .dataframe tbody tr th {\n",
       "        vertical-align: top;\n",
       "    }\n",
       "\n",
       "    .dataframe thead th {\n",
       "        text-align: right;\n",
       "    }\n",
       "</style>\n",
       "<table border=\"1\" class=\"dataframe\">\n",
       "  <thead>\n",
       "    <tr style=\"text-align: right;\">\n",
       "      <th></th>\n",
       "      <th>District</th>\n",
       "      <th>Crop</th>\n",
       "      <th>Yield</th>\n",
       "      <th>Season</th>\n",
       "    </tr>\n",
       "  </thead>\n",
       "  <tbody>\n",
       "    <tr>\n",
       "      <th>0</th>\n",
       "      <td>Balaka</td>\n",
       "      <td>Maize</td>\n",
       "      <td>43565.0</td>\n",
       "      <td>2023-2024</td>\n",
       "    </tr>\n",
       "    <tr>\n",
       "      <th>1</th>\n",
       "      <td>Blantyre</td>\n",
       "      <td>Maize</td>\n",
       "      <td>34369.0</td>\n",
       "      <td>2023-2024</td>\n",
       "    </tr>\n",
       "    <tr>\n",
       "      <th>2</th>\n",
       "      <td>Chikwawa</td>\n",
       "      <td>Maize</td>\n",
       "      <td>55804.0</td>\n",
       "      <td>2023-2024</td>\n",
       "    </tr>\n",
       "    <tr>\n",
       "      <th>3</th>\n",
       "      <td>Chiradzulu</td>\n",
       "      <td>Maize</td>\n",
       "      <td>35078.0</td>\n",
       "      <td>2023-2024</td>\n",
       "    </tr>\n",
       "    <tr>\n",
       "      <th>4</th>\n",
       "      <td>Chitipa</td>\n",
       "      <td>Maize</td>\n",
       "      <td>102319.0</td>\n",
       "      <td>2023-2024</td>\n",
       "    </tr>\n",
       "    <tr>\n",
       "      <th>5</th>\n",
       "      <td>Dedza</td>\n",
       "      <td>Maize</td>\n",
       "      <td>227724.0</td>\n",
       "      <td>2023-2024</td>\n",
       "    </tr>\n",
       "    <tr>\n",
       "      <th>6</th>\n",
       "      <td>Dowa</td>\n",
       "      <td>Maize</td>\n",
       "      <td>259890.0</td>\n",
       "      <td>2023-2024</td>\n",
       "    </tr>\n",
       "    <tr>\n",
       "      <th>7</th>\n",
       "      <td>Karonga</td>\n",
       "      <td>Maize</td>\n",
       "      <td>67998.0</td>\n",
       "      <td>2023-2024</td>\n",
       "    </tr>\n",
       "    <tr>\n",
       "      <th>8</th>\n",
       "      <td>Kasungu</td>\n",
       "      <td>Maize</td>\n",
       "      <td>318203.0</td>\n",
       "      <td>2023-2024</td>\n",
       "    </tr>\n",
       "    <tr>\n",
       "      <th>9</th>\n",
       "      <td>Likoma</td>\n",
       "      <td>Maize</td>\n",
       "      <td>255.1</td>\n",
       "      <td>2023-2024</td>\n",
       "    </tr>\n",
       "  </tbody>\n",
       "</table>\n",
       "</div>"
      ],
      "text/plain": [
       "     District   Crop     Yield     Season\n",
       "0      Balaka  Maize   43565.0  2023-2024\n",
       "1    Blantyre  Maize   34369.0  2023-2024\n",
       "2    Chikwawa  Maize   55804.0  2023-2024\n",
       "3  Chiradzulu  Maize   35078.0  2023-2024\n",
       "4     Chitipa  Maize  102319.0  2023-2024\n",
       "5       Dedza  Maize  227724.0  2023-2024\n",
       "6        Dowa  Maize  259890.0  2023-2024\n",
       "7     Karonga  Maize   67998.0  2023-2024\n",
       "8     Kasungu  Maize  318203.0  2023-2024\n",
       "9      Likoma  Maize     255.1  2023-2024"
      ]
     },
     "execution_count": 112,
     "metadata": {},
     "output_type": "execute_result"
    }
   ],
   "source": [
    "df_prod_long.head(10)"
   ]
  },
  {
   "cell_type": "code",
   "execution_count": 79,
   "metadata": {},
   "outputs": [
    {
     "data": {
      "text/plain": [
       "array(['Mzimba South', 'Mzimba North', 'Rumphi ', 'Nkhata Bay', 'Likoma',\n",
       "       'Blantyre', 'Thyolo', 'Mulanje', 'Phalombe', 'mwanza',\n",
       "       'Chiradzulu', 'Neno', 'Chitipa', 'Karonga', 'Kasungu', 'Mchinji',\n",
       "       'Dowa East', 'Dowa West', 'Ntchisi', 'Lilongwe West',\n",
       "       'Lilongwe East', 'Dedza', 'Ntcheu', 'Chikwawa', 'Nsanje',\n",
       "       'Nkhotakota', 'Salima', 'Machinga', 'Mangochi', 'Zomba', 'Balaka'],\n",
       "      dtype=object)"
      ]
     },
     "execution_count": 79,
     "metadata": {},
     "output_type": "execute_result"
    }
   ],
   "source": [
    "df_prod_long.District.unique()"
   ]
  },
  {
   "cell_type": "code",
   "execution_count": 80,
   "metadata": {},
   "outputs": [
    {
     "data": {
      "text/plain": [
       "array(['Mzimba South', 'Mzimba North', 'Rumphi ', 'Nkhata Bay', 'Likoma',\n",
       "       'Blantyre', 'Thyolo', 'Mulanje', 'Phalombe', 'mwanza',\n",
       "       'Chiradzulu', 'Neno', 'Chitipa', 'Karonga', 'Kasungu', 'Mchinji',\n",
       "       'Dowa East', 'Dowa West', 'Ntchisi', 'Lilongwe West',\n",
       "       'Lilongwe East', 'Dedza', 'Ntcheu', 'Chikwawa', 'Nsanje',\n",
       "       'Nkhotakota', 'Salima', 'Machinga', 'Mangochi', 'Zomba', 'Balaka'],\n",
       "      dtype=object)"
      ]
     },
     "execution_count": 80,
     "metadata": {},
     "output_type": "execute_result"
    }
   ],
   "source": [
    "df_prod_long.District.unique()"
   ]
  },
  {
   "cell_type": "code",
   "execution_count": 113,
   "metadata": {},
   "outputs": [],
   "source": [
    "df_prod_long.to_csv(DIR_TABLES_DATA.joinpath(\"production.csv\"), index=False)"
   ]
  },
  {
   "cell_type": "code",
   "execution_count": 67,
   "metadata": {},
   "outputs": [],
   "source": [
    "df_prod = pd.read_csv(DIR_TABLES_DATA.joinpath(\"production.csv\"))"
   ]
  },
  {
   "cell_type": "code",
   "execution_count": 105,
   "metadata": {},
   "outputs": [
    {
     "name": "stdout",
     "output_type": "stream",
     "text": [
      "NDDF Tobacco\n",
      "Burley tobacco\n"
     ]
    }
   ],
   "source": [
    "for c in list(df_prod_long.Crop.unique()):\n",
    "\n",
    "    if \"tobacco\" in c.lower():\n",
    "        print(c)"
   ]
  },
  {
   "cell_type": "code",
   "execution_count": 123,
   "metadata": {},
   "outputs": [
    {
     "data": {
      "text/html": [
       "<div>\n",
       "<style scoped>\n",
       "    .dataframe tbody tr th:only-of-type {\n",
       "        vertical-align: middle;\n",
       "    }\n",
       "\n",
       "    .dataframe tbody tr th {\n",
       "        vertical-align: top;\n",
       "    }\n",
       "\n",
       "    .dataframe thead th {\n",
       "        text-align: right;\n",
       "    }\n",
       "</style>\n",
       "<table border=\"1\" class=\"dataframe\">\n",
       "  <thead>\n",
       "    <tr style=\"text-align: right;\">\n",
       "      <th></th>\n",
       "      <th>ADD_Name</th>\n",
       "      <th>EPA_Name</th>\n",
       "      <th>District</th>\n",
       "      <th>Market</th>\n",
       "      <th>Month_Name</th>\n",
       "      <th>Yr</th>\n",
       "      <th>Commodity</th>\n",
       "      <th>Price</th>\n",
       "      <th>Collection_Date</th>\n",
       "    </tr>\n",
       "  </thead>\n",
       "  <tbody>\n",
       "    <tr>\n",
       "      <th>308</th>\n",
       "      <td>Kasungu</td>\n",
       "      <td>Nachisaka</td>\n",
       "      <td>Dowa</td>\n",
       "      <td>Dowa</td>\n",
       "      <td>May</td>\n",
       "      <td>2024</td>\n",
       "      <td>Maize</td>\n",
       "      <td>562.5</td>\n",
       "      <td>2024-05-31</td>\n",
       "    </tr>\n",
       "  </tbody>\n",
       "</table>\n",
       "</div>"
      ],
      "text/plain": [
       "    ADD_Name   EPA_Name District Market Month_Name    Yr Commodity  Price  \\\n",
       "308  Kasungu  Nachisaka     Dowa   Dowa        May  2024     Maize  562.5   \n",
       "\n",
       "    Collection_Date  \n",
       "308      2024-05-31  "
      ]
     },
     "execution_count": 123,
     "metadata": {},
     "output_type": "execute_result"
    }
   ],
   "source": [
    "df_prices.query('Month_Name == \"May\" & Market == \"Dowa\" & Commodity == \"Maize\"')"
   ]
  },
  {
   "cell_type": "code",
   "execution_count": 124,
   "metadata": {},
   "outputs": [
    {
     "data": {
      "text/plain": [
       "array(['Maize', 'Rice', 'Soya beans', 'Beans', 'Cow peas', 'Groundnuts'],\n",
       "      dtype=object)"
      ]
     },
     "execution_count": 124,
     "metadata": {},
     "output_type": "execute_result"
    }
   ],
   "source": [
    "df_prices.Commodity.unique()"
   ]
  },
  {
   "cell_type": "code",
   "execution_count": 128,
   "metadata": {},
   "outputs": [
    {
     "data": {
      "text/plain": [
       "['which', 'districts', 'produce', 'most', 'maize?']"
      ]
     },
     "execution_count": 128,
     "metadata": {},
     "output_type": "execute_result"
    }
   ],
   "source": [
    "x =\"Which districts produce most Maize?\"\n",
    "x.lower().split()"
   ]
  },
  {
   "cell_type": "code",
   "execution_count": 151,
   "metadata": {},
   "outputs": [
    {
     "data": {
      "text/plain": [
       "1116"
      ]
     },
     "execution_count": 151,
     "metadata": {},
     "output_type": "execute_result"
    }
   ],
   "source": [
    "df_prices.Price.isna().sum()"
   ]
  },
  {
   "cell_type": "markdown",
   "metadata": {},
   "source": [
    "# Process Security "
   ]
  },
  {
   "cell_type": "code",
   "execution_count": 201,
   "metadata": {},
   "outputs": [],
   "source": [
    "detailed_insecurity_levels = {1: \"Households are able to meet essential food and\\\n",
    "non-food needs without engaging in atypical and unsustainable strategies to\\\n",
    "access food and income\", \n",
    "2: \"Households have minimally adequate food consumption\\\n",
    "but are unable to afford some essential non-food expenditures without\\\n",
    "engaging in stress-coping strategies\",\n",
    "3: \"Households either have food consumption gaps that are\\\n",
    "reflected by high or above-usual acute malnutrition; or are marginally able to\\\n",
    "meet minimum food needs but only by depleting essential livelihood assets or\\\n",
    "through crisis-coping strategies.\",\n",
    "4: \"Households either have large food consumption gaps\\\n",
    "that are reflected in very high acute malnutrition and excess mortality; or are able to\\\n",
    "mitigate large food consumption gaps but only by employing emergency livelihood\\\n",
    "strategies and asset liquidation\",\n",
    "5: \"Households have an extreme lack of food\\\n",
    "and/or cannot meet other basic needs even after full employment of coping\\\n",
    "strategies. Starvation, death, destitution and extremely critical acute malnutrition\\\n",
    "levels are evident. For famine classification, area needs to have extreme critical levels\\\n",
    "of acute malnutrition and mortality\"}\n",
    "brief_insecurity_levels = {1: \"None or minimal\", 2: \"stressed\", \n",
    "                           3: \"Crisis\", 4: \"Emergency\", 5: \"Catastrophe or famine\"}\n",
    "phaase2num = {\"phase{}\".format(i):i for i in range(1,6)}"
   ]
  },
  {
   "cell_type": "code",
   "execution_count": 213,
   "metadata": {},
   "outputs": [],
   "source": [
    "df_list = []\n",
    "\n",
    "for file in DIR_RAW_DATA.iterdir():\n",
    "    if \"food\" not in file.parts[-1]:\n",
    "        continue\n",
    "    df = pd.read_csv(file)\n",
    "    if \"may\" in file.parts[-1]:\n",
    "        df['period'] = \"May-Sept 2024\"\n",
    "    else:\n",
    "        df['period'] = \"October 2024-March 2025\"\n",
    "    df2 = df.melt(id_vars=[\"district\", 'population', 'period'], \n",
    "            value_vars=['phase1', 'phase2', 'phase3', 'phase4',\n",
    "       'phase5'],value_name=\"percentage_population\", \n",
    "       var_name=\"insecurity\")\n",
    "    df_list.append(df2)\n",
    "df_insec = pd.concat(df_list)\n",
    "df_insec[\"insecurity_level\"] = df_insec.insecurity.map(phaase2num)\n",
    "df_insec[\"insecurity_desc_short\"] = df_insec.insecurity_level.map(brief_insecurity_levels)\n",
    "df_insec[\"insecurity_desc_long\"] = df_insec.insecurity_level.map(detailed_insecurity_levels)\n",
    "df_insec.drop(columns=['insecurity'], inplace=True)\n",
    "df_insec['population'] = df_insec.population.apply(lambda x: convert2float(x))\n"
   ]
  },
  {
   "cell_type": "code",
   "execution_count": 214,
   "metadata": {},
   "outputs": [],
   "source": [
    "df_insec.to_csv(DIR_TABLES_DATA.joinpath(\"food-insecurity.csv\"), index=False)"
   ]
  },
  {
   "cell_type": "code",
   "execution_count": 62,
   "metadata": {},
   "outputs": [],
   "source": [
    "df_prices_may = df_prices.query('Month_Name == \"May\"')\n"
   ]
  },
  {
   "cell_type": "code",
   "execution_count": 137,
   "metadata": {},
   "outputs": [
    {
     "data": {
      "text/plain": [
       "599.5864912289474"
      ]
     },
     "execution_count": 137,
     "metadata": {},
     "output_type": "execute_result"
    }
   ],
   "source": [
    "df_prices_may.query('Commodity == \"Maize\"').Price.mean()"
   ]
  },
  {
   "cell_type": "code",
   "execution_count": 64,
   "metadata": {},
   "outputs": [
    {
     "data": {
      "text/plain": [
       "False"
      ]
     },
     "execution_count": 64,
     "metadata": {},
     "output_type": "execute_result"
    }
   ],
   "source": [
    "df_prices_may.Market.nunique() == len(df_prices_may)"
   ]
  },
  {
   "cell_type": "code",
   "execution_count": 136,
   "metadata": {},
   "outputs": [
    {
     "data": {
      "text/plain": [
       "1776.6735181990423"
      ]
     },
     "execution_count": 136,
     "metadata": {},
     "output_type": "execute_result"
    }
   ],
   "source": [
    "df_prices.query()"
   ]
  },
  {
   "cell_type": "markdown",
   "metadata": {},
   "source": [
    "# Create and Save Example SQL Queries "
   ]
  },
  {
   "cell_type": "code",
   "execution_count": 139,
   "metadata": {},
   "outputs": [],
   "source": [
    "import json\n",
    "\n",
    "EXAMPLES_EN = [\n",
    "    {\n",
    "        \"input\": \"What is the price of Maize in Rumphi\", \n",
    "        \"query\": \"SELECT district, AVG(price) as average_price FROM commodity_prices WHERE commodity = 'Maize' AND collection_date = (SELECT MAX(collection_date) FROM commodity_prices WHERE commodity = 'Maize') AND district = 'Rumphi' GROUP BY district;\"\n",
    "    },\n",
    "    {\n",
    "        \"input\": \"What is the price of rice in Lilongwe district now\", \n",
    "        \"query\": \"SELECT district, AVG(price) as average_price FROM commodity_prices WHERE commodity = 'Rice' AND collection_date = (SELECT MAX(collection_date) FROM commodity_prices WHERE commodity = 'Rice') AND district = 'Lilongwe' GROUP BY district;\"\n",
    "    },\n",
    "    {\n",
    "        \"input\": \"Which district has the lowest price for groundnuts?\", \n",
    "        \"query\": \"\"\"WITH latest_date AS (\n",
    "    SELECT MAX(collection_date) AS max_date\n",
    "    FROM commodity_prices\n",
    "    WHERE commodity = 'Groundnuts'\n",
    "),\n",
    "average_prices AS (\n",
    "    SELECT district, AVG(price) AS average_price\n",
    "    FROM commodity_prices\n",
    "    WHERE commodity = 'Groundnuts' AND collection_date = (SELECT max_date FROM latest_date)\n",
    "    GROUP BY district\n",
    ")\n",
    "SELECT district, average_price\n",
    "FROM average_prices\n",
    "ORDER BY average_price ASC\n",
    "LIMIT 1;\"\"\"\n",
    "    },\n",
    "    {\n",
    "        \"input\": \"Where is it cheap to buy Maize?\", \n",
    "        \"query\": \"\"\"WITH latest_date AS (\n",
    "    SELECT MAX(collection_date) AS max_date\n",
    "    FROM commodity_prices\n",
    "    WHERE commodity = 'Maize'\n",
    "),\n",
    "average_prices AS (\n",
    "    SELECT market, AVG(price) AS average_price\n",
    "    FROM commodity_prices\n",
    "    WHERE commodity = 'Maize' AND collection_date = (SELECT max_date FROM latest_date)\n",
    "    GROUP BY market\n",
    ")\n",
    "SELECT market, average_price\n",
    "FROM average_prices\n",
    "ORDER BY average_price ASC\n",
    "LIMIT 5;\"\"\"\n",
    "    },\n",
    "    {\n",
    "        \"input\": \"Where is the best place to sale soya?\", \n",
    "        \"query\": \"\"\"WITH latest_date AS (\n",
    "    SELECT MAX(collection_date) AS max_date\n",
    "    FROM commodity_prices\n",
    "    WHERE commodity = 'Soya beans'\n",
    "),\n",
    "average_prices AS (\n",
    "    SELECT market, AVG(price) AS average_price\n",
    "    FROM commodity_prices\n",
    "    WHERE commodity = 'Soya beans' AND collection_date = (SELECT max_date FROM latest_date)\n",
    "    GROUP BY market\n",
    ")\n",
    "SELECT market, average_price\n",
    "FROM average_prices\n",
    "ORDER BY average_price DESC\n",
    "LIMIT 1;\"\"\"\n",
    "    },\n",
    "    {\n",
    "        \"input\": \"Whats the price of beans?\",\n",
    "        \"query\": \"\"\"WITH latest_date AS (\n",
    "    SELECT MAX(collection_date) AS max_date\n",
    "    FROM commodity_prices\n",
    "    WHERE commodity = 'Beans'\n",
    ")\n",
    "SELECT AVG(price) AS average_price\n",
    "FROM commodity_prices\n",
    "WHERE commodity = 'Beans' AND collection_date = (SELECT max_date FROM latest_date);\"\"\"\n",
    "    },\n",
    "    {\n",
    "        \"input\": \"Which district produced the most Maize\",\n",
    "        \"query\": \"\"\"WITH max_yield_district AS (\n",
    "    SELECT district\n",
    "    FROM production\n",
    "    WHERE crop = 'Maize'\n",
    "    ORDER BY yield DESC\n",
    "    LIMIT 1\n",
    ")\n",
    "SELECT district\n",
    "FROM max_yield_district;\"\"\"\n",
    "    },\n",
    "    {\n",
    "        \"input\": \"Where can I find alot of rice to purchase?\",\n",
    "        \"query\": \"\"\"WITH max_yield_district AS (\n",
    "    SELECT district\n",
    "    FROM production\n",
    "    WHERE crop = 'Rice'\n",
    "    ORDER BY yield DESC\n",
    "    LIMIT 1)\n",
    "SELECT district\n",
    "FROM max_yield_district;\"\"\"\n",
    "    },\n",
    "    {\n",
    "        \"input\": \"Which crops did well in Rumphi\",\n",
    "        \"query\": \"SELECT crop FROM production WHERE district = 'Rumphi' ORDER BY yield DESC LIMIT 5;\"\n",
    "    },\n",
    "    {\n",
    "        \"input\": \"Which districts harvested the most tobacco?\",\n",
    "        \"query\": \"\"\"WITH max_yield_district AS (\n",
    "    SELECT district\n",
    "    FROM production\n",
    "    WHERE crop = 'Tobacco'\n",
    "    ORDER BY yield DESC\n",
    "    LIMIT 5)\n",
    "SELECT district\n",
    "FROM max_yield_district;\"\"\"\n",
    "    },\n",
    "    {\n",
    "        \"input\": \"Where can I buy soya?\",\n",
    "        \"query\": \"\"\"WITH max_yield_district AS (\n",
    "        SELECT district\n",
    "        FROM production\n",
    "        WHERE crop = 'Soy beans'\n",
    "        ORDER BY yield DESC\n",
    "        LIMIT 5)\n",
    "    SELECT district\n",
    "    FROM max_yield_district;\"\"\"\n",
    "    },\n",
    "    {\n",
    "        \"input\": \"Which district produced more maize: Lilongwe or Kasungu\",\n",
    "        \"query\": \"\"\"WITH district_yields AS (\n",
    "    SELECT district, SUM(yield) AS total_yield\n",
    "    FROM production\n",
    "    WHERE crop = 'Maize' AND district IN ('Lilongwe', 'Kasungu')\n",
    "    GROUP BY district\n",
    "        )\n",
    "        SELECT district\n",
    "        FROM district_yields\n",
    "        ORDER BY total_yield DESC\n",
    "        LIMIT 1;\"\"\"\n",
    "    },\n",
    "    {\n",
    "        \"input\": \"How much is maize in Dowa?\",\n",
    "        \"query\": \"\"\"WITH latest_date AS (\n",
    "    SELECT MAX(collection_date) AS max_date\n",
    "    FROM commodity_prices\n",
    "    WHERE commodity = 'Maize' AND market = 'Dowa'\n",
    ")\n",
    "SELECT price\n",
    "FROM commodity_prices\n",
    "WHERE commodity = 'Maize' AND market = 'Dowa' AND collection_date = (SELECT max_date FROM latest_date);\"\"\"\n",
    "    },\n",
    "    {\n",
    "        \"input\": \"Districts with cheap beans\",\n",
    "        \"query\": \"\"\"SELECT market, price\n",
    "            FROM commodity_prices\n",
    "            WHERE commodity = 'Beans' AND collection_date = (SELECT MAX(collection_date) FROM commodity_prices WHERE Commodity = 'Beans')\n",
    "            ORDER BY price ASC\n",
    "            LIMIT 5;\"\"\"\n",
    "    },\n",
    "    {\n",
    "        \"input\": \"Where can i get cheap groundnuts\",\n",
    "        \"query\": \"\"\"SELECT market, price\n",
    "            FROM commodity_prices\n",
    "            WHERE commodity = 'Groundnuts' AND collection_date = (SELECT MAX(collection_date) FROM commodity_prices WHERE Commodity = 'Groundnuts')\n",
    "            ORDER BY price ASC\n",
    "            LIMIT 5;\"\"\"\n",
    "    },\n",
    "    {\n",
    "        \"input\": \"current price of Maize in the country\",\n",
    "        \"query\": \"\"\"-- Query to retrieve the average price of a given commodity on the most recent collection_date\n",
    "        SELECT AVG(Price) as average_price\n",
    "        FROM commodity_prices\n",
    "        WHERE Commodity = 'Maize' AND collection_date = (SELECT MAX(collection_date) FROM commodity_prices WHERE Commodity = 'Maize');\"\"\"\n",
    "    }\n",
    "]\n",
    "\n",
    "# Save the list to a text file\n",
    "with open('sql_examples_en.txt', 'w') as f:\n",
    "    json.dump(EXAMPLES_EN, f, indent=4)\n"
   ]
  },
  {
   "cell_type": "code",
   "execution_count": null,
   "metadata": {},
   "outputs": [],
   "source": [
    "## Machine Translate Chichewa Questions into English and Use them as Example"
   ]
  }
 ],
 "metadata": {
  "kernelspec": {
   "display_name": "base",
   "language": "python",
   "name": "python3"
  },
  "language_info": {
   "codemirror_mode": {
    "name": "ipython",
    "version": 3
   },
   "file_extension": ".py",
   "mimetype": "text/x-python",
   "name": "python",
   "nbconvert_exporter": "python",
   "pygments_lexer": "ipython3",
   "version": "3.9.16"
  }
 },
 "nbformat": 4,
 "nbformat_minor": 2
}
